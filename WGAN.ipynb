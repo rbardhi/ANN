{
  "nbformat": 4,
  "nbformat_minor": 0,
  "metadata": {
    "colab": {
      "name": "WGAN.ipynb",
      "version": "0.3.2",
      "provenance": []
    },
    "kernelspec": {
      "name": "python3",
      "display_name": "Python 3"
    }
  },
  "cells": [
    {
      "metadata": {
        "id": "45wWS4Ng3Qja",
        "colab_type": "code",
        "colab": {}
      },
      "cell_type": "code",
      "source": [
        "%cd /content\n",
        "! rm -rf gan-tools\n",
        "!git clone --single-branch --depth=1 --branch master https://github.com/hannesdm/gan-tools.git\n",
        "%cd gan-tools\n",
        "from keras.datasets import mnist\n",
        "from keras import initializers\n",
        "from keras.optimizers import RMSprop\n",
        "import impl\n",
        "from impl import *\n",
        "from core import vis\n",
        "from core import gan\n",
        "from core import constraint\n",
        "import matplotlib.pyplot as plt\n",
        "plt.rcParams['image.cmap'] = 'gray'\n",
        "plt.rcParams['axes.grid'] = False\n"
      ],
      "execution_count": 0,
      "outputs": []
    },
    {
      "metadata": {
        "id": "dpGHuTd85t06",
        "colab_type": "text"
      },
      "cell_type": "markdown",
      "source": [
        "## Wasserstein GAN\n",
        "We will train a standard GAN and a Wasserstein GAN on the mnist data. <br/>\n",
        "Both variants have a relatively simple fully connected architecture to allow for fast training. This will inevitable produce worse results than larger or specialized models (cfr. DCGAN). <br/>\n",
        "The Wasserstein GAN implementation follows the paper of Arjovsky et al. <br/>\n",
        "You may change the parameters and architecture of the model. If you do, do **not** change the **input_dim**,  **final layer** and **wasserstein_params**. <br/>\n",
        "**Exercise** Compare the performance of the two GAN’s over\n",
        "the different iterations, do you see an improvement in stability and quality of the generated samples? <br/>Elaborate based on\n",
        "the knowledge you have gained about optimal transport and the Wasserstein distance."
      ]
    },
    {
      "metadata": {
        "id": "7G6u-c2151PP",
        "colab_type": "code",
        "colab": {}
      },
      "cell_type": "code",
      "source": [
        "(X_train_mnist, Y_train_mnist), (_, _) = mnist.load_data()\n",
        "X_train_mnist = X_train_mnist.reshape((-1, 28*28))\n",
        "X_train_mnist = X_train_mnist.astype('float32') / 127.5 - 1"
      ],
      "execution_count": 0,
      "outputs": []
    },
    {
      "metadata": {
        "id": "7dxwND5A6ChH",
        "colab_type": "code",
        "colab": {}
      },
      "cell_type": "code",
      "source": [
        "kernel_initializer = initializers.RandomNormal(stddev=0.02)\n",
        "weight_clipping = constraint.WeightClipping(c1=-0.01, c2=0.01)\n",
        "wasserstein_params = {\n",
        "    'kernel_initializer': kernel_initializer,\n",
        "    'kernel_constraint': weight_clipping, 'bias_constraint': weight_clipping}\n",
        "\n",
        "def mnist_generator_model():\n",
        "  generator = Sequential()\n",
        "  generator.add(Dense(100, input_dim=100, activation='relu'))\n",
        "  generator.add(Dense(100, activation='relu'))\n",
        "  generator.add(Dense(784, activation='tanh'))\n",
        "  return generator\n",
        "\n",
        "def mnist_discriminator_model():\n",
        "  discriminator = Sequential()\n",
        "  discriminator.add(Dense(100, input_dim=784, activation='relu'))\n",
        "  discriminator.add(Dense(100, activation='relu'))\n",
        "  discriminator.add(Dense(1, activation='sigmoid'))\n",
        "  return discriminator\n",
        "\n",
        "def mnist_wgan_generator_model():\n",
        "  generator = Sequential()\n",
        "  generator.add(Dense(100, input_dim=100, activation='relu'))\n",
        "  generator.add(Dense(100, activation='relu'))\n",
        "  generator.add(Dense(784, activation='tanh'))\n",
        "  return generator\n",
        "\n",
        "def mnist_wgan_discriminator_model():\n",
        "  discriminator = Sequential()\n",
        "  discriminator.add(Dense(100, input_dim=784, activation='relu', **wasserstein_params))\n",
        "  discriminator.add(Dense(100, activation='relu', **wasserstein_params))\n",
        "  discriminator.add(Dense(1, activation='linear', **wasserstein_params))\n",
        "  return discriminator"
      ],
      "execution_count": 0,
      "outputs": []
    },
    {
      "metadata": {
        "id": "LrFpaw_49QAN",
        "colab_type": "text"
      },
      "cell_type": "markdown",
      "source": [
        "## Train the standard GAN\n",
        "The parameters **batches**, **batch_size** and **plot_interval** may be changed if wanted. <br/>\n",
        "Remember that the execution may be interrupted at any time by clicking the stop button or by selecting the 'interrupt execution' option in the runtime menu."
      ]
    },
    {
      "metadata": {
        "id": "QQvA6cyW9MI6",
        "colab_type": "code",
        "colab": {}
      },
      "cell_type": "code",
      "source": [
        "mnist_gan = GAN(discriminator=mnist_discriminator_model(), generator=mnist_generator_model())\n",
        "mnist_gan.train_random_batches(X_train_mnist, batches = 5000, batch_size=32, plot_interval = 500, image_shape=(28,28))"
      ],
      "execution_count": 0,
      "outputs": []
    },
    {
      "metadata": {
        "id": "TEm1VpMq-TH9",
        "colab_type": "text"
      },
      "cell_type": "markdown",
      "source": [
        "## Train the Wasserstein GAN\n",
        "The parameters **batches**, **batch_size** and **plot_interval** may be changed if wanted. <br/>\n",
        "Remember that the execution may be interrupted at any time by clicking the stop button or by selecting the 'interrupt execution' option in the runtime menu."
      ]
    },
    {
      "metadata": {
        "id": "b7MfT6D_9_ZF",
        "colab_type": "code",
        "colab": {}
      },
      "cell_type": "code",
      "source": [
        "optimizer = RMSprop(lr=0.00005)\n",
        "mnist_wgan = GAN(discriminator=mnist_wgan_discriminator_model(), generator=mnist_wgan_generator_model()\n",
        "                 ,generator_optimizer=optimizer, discriminator_optimizer=optimizer, loss='wasserstein')\n",
        "mnist_wgan.train_random_batches(X_train_mnist, batches=5000, batch_size=32,\n",
        "                                plot_interval = 500, image_shape=(28,28), nr_train_discriminator=5)"
      ],
      "execution_count": 0,
      "outputs": []
    }
  ]
}